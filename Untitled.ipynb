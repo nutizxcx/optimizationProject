{
 "cells": [
  {
   "cell_type": "code",
   "execution_count": 24,
   "metadata": {},
   "outputs": [
    {
     "name": "stdout",
     "output_type": "stream",
     "text": [
      "11\n",
      "111\n",
      "1111\n",
      "11110\n",
      "111101\n",
      "1111011\n",
      "11110110\n",
      "111101101\n",
      "1111011011\n",
      "11110110110\n",
      "111101101100\n",
      "1111011011001\n",
      "11110110110010\n",
      "111101101100100\n",
      "1111011011001000\n",
      "11110110110010001\n",
      "111101101100100011\n",
      "1111011011001000110\n",
      "11110110110010001100\n",
      "111101101100100011001\n",
      "1111011011001000110011\n",
      "11110110110010001100110\n",
      "111101101100100011001101\n"
     ]
    }
   ],
   "source": [
    "from random import random, randrange, shuffle\n",
    "\n",
    "\n",
    "def obj():\n",
    "    \n",
    "\n",
    "gene = str(randrange(0,2))\n",
    "\n",
    "for i in range(23):\n",
    "    gene = gene + str(randrange(0,2))\n",
    "#     print(gene)\n",
    "\n",
    "\n"
   ]
  },
  {
   "cell_type": "code",
   "execution_count": null,
   "metadata": {},
   "outputs": [],
   "source": []
  }
 ],
 "metadata": {
  "kernelspec": {
   "display_name": "Python 3",
   "language": "python",
   "name": "python3"
  },
  "language_info": {
   "codemirror_mode": {
    "name": "ipython",
    "version": 3
   },
   "file_extension": ".py",
   "mimetype": "text/x-python",
   "name": "python",
   "nbconvert_exporter": "python",
   "pygments_lexer": "ipython3",
   "version": "3.7.4"
  }
 },
 "nbformat": 4,
 "nbformat_minor": 2
}
