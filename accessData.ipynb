{
 "cells": [
  {
   "cell_type": "code",
   "execution_count": 5,
   "metadata": {},
   "outputs": [],
   "source": [
    "# import libraries\n",
    "import math\n",
    "\n",
    "# input name of dataframe, chromosome and bit length of chromosome\n",
    "def accessData(df, chromosome, bit) :\n",
    "    menuNumber = 0\n",
    "    for i in range(0,bit):\n",
    "        temp = int(chromosome[i])*(2**((bit-1)-i))\n",
    "        menuNumber += temp\n",
    "    sugar = df.Sugar[menuNumber]\n",
    "    protein = df.Protein[menuNumber]\n",
    "    calories = df.Calories[menuNumber]\n",
    "    carb = df.Carbohydrates[menuNumber]\n",
    "    fat = df.Total_Fat[menuNumber]\n",
    "    return {\"sugar\": sugar, \"protein\": protein, \"calories\": calories, \"carb\": carb, \"fat\": fat}"
   ]
  }
 ],
 "metadata": {
  "kernelspec": {
   "display_name": "Python 3",
   "language": "python",
   "name": "python3"
  },
  "language_info": {
   "codemirror_mode": {
    "name": "ipython",
    "version": 3
   },
   "file_extension": ".py",
   "mimetype": "text/x-python",
   "name": "python",
   "nbconvert_exporter": "python",
   "pygments_lexer": "ipython3",
   "version": "3.7.4"
  }
 },
 "nbformat": 4,
 "nbformat_minor": 2
}
