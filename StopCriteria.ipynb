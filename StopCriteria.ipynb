{
 "cells": [
  {
   "cell_type": "code",
   "execution_count": null,
   "metadata": {},
   "outputs": [],
   "source": [
    "counter = 0\n",
    "\n",
    "class genereation:\n",
    "    def __init__(self, chromosome, fitness):\n",
    "        self.chromosome = chromosome\n",
    "        self.fitness = fitness\n",
    "\n",
    "def avgFitness(Gen):\n",
    "    amount = 0\n",
    "    for x in gen.fitness:\n",
    "        amount = amount + x\n",
    "    return amount/len(Gen)\n",
    "\n",
    "def stopCtiteria(oGen, nGen):\n",
    "    if abs(avgFitness(oGen) - avgFitness(nGen)) >= (bestFitness*0.03)\n",
    "        counter++\n",
    "    if counter >= 10:\n",
    "        return True\n",
    "    else: \n",
    "        return False\n",
    "    \n",
    "gen = [] \n",
    "gen.append(generation(\"0011000110100011101010011\",24))\n",
    "gen.append(generation(\"\"))"
   ]
  }
 ],
 "metadata": {
  "kernelspec": {
   "display_name": "Python 3",
   "language": "python",
   "name": "python3"
  },
  "language_info": {
   "codemirror_mode": {
    "name": "ipython",
    "version": 3
   },
   "file_extension": ".py",
   "mimetype": "text/x-python",
   "name": "python",
   "nbconvert_exporter": "python",
   "pygments_lexer": "ipython3",
   "version": "3.7.4"
  }
 },
 "nbformat": 4,
 "nbformat_minor": 2
}
