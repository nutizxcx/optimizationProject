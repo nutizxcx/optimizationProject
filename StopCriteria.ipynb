{
 "cells": [
  {
   "cell_type": "code",
   "execution_count": 27,
   "metadata": {},
   "outputs": [
    {
     "name": "stdout",
     "output_type": "stream",
     "text": [
      "26.333333333333332\n",
      "+++++\n",
      "\n",
      "true\n",
      "\n"
     ]
    },
    {
     "data": {
      "text/plain": [
       "True"
      ]
     },
     "execution_count": 27,
     "metadata": {},
     "output_type": "execute_result"
    }
   ],
   "source": [
    "counter = 0\n",
    "\n",
    "def avgFitness(Gen):\n",
    "    amount = 0\n",
    "    for x in range(len(Gen)):\n",
    "        amount = amount + Gen[x].fitness\n",
    "    print(amount/len(Gen))\n",
    "    return amount/len(Gen)\n",
    "\n",
    "def stopCriteria(oGen, bestFitness):\n",
    "    global counter\n",
    "    if abs(avgFitness(oGen)) >= (bestFitness*0.03):\n",
    "        counter = counter+1\n",
    "        print(\"+++++\\n\")\n",
    "    if counter >= 10:\n",
    "        print(\"true\\n\")\n",
    "        return True\n",
    "    else: \n",
    "        return False\n",
    "        print(\"false\\n\")\n",
    "    \n",
    "    \n",
    "# test\n",
    "# class generation:\n",
    "#     def __init__(self, chromosome, fitness):\n",
    "#         self.chromosome = chromosome\n",
    "#         self.fitness = fitnes\n",
    "        \n",
    "# gen = [] \n",
    "# gen.append(generation(\"001100011010001110101011\",24))\n",
    "# gen.append(generation(\"011111101100101010101101\",28))\n",
    "# gen.append(generation(\"010000110010110110100010\",27))\n",
    "\n",
    "# # # gen[0].chromosome\n",
    "# stopCriteria(gen,25)"
   ]
  }
 ],
 "metadata": {
  "kernelspec": {
   "display_name": "Python 3",
   "language": "python",
   "name": "python3"
  },
  "language_info": {
   "codemirror_mode": {
    "name": "ipython",
    "version": 3
   },
   "file_extension": ".py",
   "mimetype": "text/x-python",
   "name": "python",
   "nbconvert_exporter": "python",
   "pygments_lexer": "ipython3",
   "version": "3.7.4"
  }
 },
 "nbformat": 4,
 "nbformat_minor": 2
}
