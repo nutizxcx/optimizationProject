{
 "cells": [
  {
   "cell_type": "code",
   "execution_count": 2,
   "metadata": {},
   "outputs": [
    {
     "name": "stdout",
     "output_type": "stream",
     "text": [
      "255\n",
      "256\n",
      "Grilled Reuben Melt\n",
      "Sandwiches\n",
      "309.0\n",
      "660.0\n",
      "38.0\n",
      "14.5\n",
      "0.4\n",
      "105.0\n",
      "1915.0\n",
      "43.0\n",
      "36.0\n",
      "6.0\n",
      "5.0\n"
     ]
    }
   ],
   "source": [
    "import math \n",
    "import csv\n",
    "import pandas\n",
    "\n",
    "input = \"11111111\"\n",
    "summ = 0\n",
    "for i in range(0,8):\n",
    "    tamp = int(input[i])*(2**(7-i))\n",
    "    summ = summ + tamp\n",
    "    \n",
    "print (summ)\n",
    "start = summ + 1\n",
    "print (start)\n",
    "\n",
    "di = r\"Filtered_Nutriton.csv\"\n",
    "\n",
    "article_read = pandas.read_csv(di, encoding='latin1')\n",
    "name = article_read.Item_Name[summ]\n",
    "print(name)\n",
    "\n",
    "category = article_read.Food_Category[summ]\n",
    "print(category)\n",
    "\n",
    "serving = article_read.Serving_Size[summ]\n",
    "print(serving)\n",
    "\n",
    "calories = article_read.Calories[summ]\n",
    "print(calories)\n",
    "\n",
    "totalfat = article_read.Total_Fat[summ]\n",
    "print(totalfat)\n",
    "\n",
    "saturatedfat = article_read.Saturated_Fat[summ]\n",
    "print(saturatedfat)\n",
    "\n",
    "transfat = article_read.Trans_Fat[summ]\n",
    "print(transfat)\n",
    "\n",
    "cholesterol = article_read.Cholesterol[summ]\n",
    "print(cholesterol)\n",
    "\n",
    "sodium = article_read.Sodium[summ]\n",
    "print(sodium)\n",
    "\n",
    "carb = article_read.Carbohydrates[summ]\n",
    "print(carb)\n",
    "\n",
    "protein = article_read.Protein[summ]\n",
    "print(protein)\n",
    "\n",
    "sugar = article_read.Sugar[summ]\n",
    "print(sugar)\n",
    "\n",
    "fiber = article_read.Dietary_Fiber[summ]\n",
    "print(fiber)"
   ]
  },
  {
   "cell_type": "code",
   "execution_count": null,
   "metadata": {},
   "outputs": [],
   "source": []
  }
 ],
 "metadata": {
  "kernelspec": {
   "display_name": "Python 3",
   "language": "python",
   "name": "python3"
  },
  "language_info": {
   "codemirror_mode": {
    "name": "ipython",
    "version": 3
   },
   "file_extension": ".py",
   "mimetype": "text/x-python",
   "name": "python",
   "nbconvert_exporter": "python",
   "pygments_lexer": "ipython3",
   "version": "3.7.4"
  }
 },
 "nbformat": 4,
 "nbformat_minor": 2
}
