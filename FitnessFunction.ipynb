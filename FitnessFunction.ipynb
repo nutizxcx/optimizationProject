{
 "cells": [
  {
   "cell_type": "code",
   "execution_count": 29,
   "metadata": {},
   "outputs": [],
   "source": [
    "def fitness(meal1, meal2, meal3):\n",
    "    totalProtein = meal1['protein'] + meal2['protein'] + meal3['protein']\n",
    "    totalCalories = meal1['calories'] + meal2['calories'] + meal3['calories']\n",
    "    return 0.5*totalProtein + 0.5*totalCalories"
   ]
  }
 ],
 "metadata": {
  "kernelspec": {
   "display_name": "Python 3",
   "language": "python",
   "name": "python3"
  },
  "language_info": {
   "codemirror_mode": {
    "name": "ipython",
    "version": 3
   },
   "file_extension": ".py",
   "mimetype": "text/x-python",
   "name": "python",
   "nbconvert_exporter": "python",
   "pygments_lexer": "ipython3",
   "version": "3.7.4"
  }
 },
 "nbformat": 4,
 "nbformat_minor": 1
}
