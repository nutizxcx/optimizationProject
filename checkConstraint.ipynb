{
 "cells": [
  {
   "cell_type": "code",
   "execution_count": 8,
   "metadata": {},
   "outputs": [],
   "source": [
    "def checkCons(foodData) :\n",
    "    if(foodData['sugar'] >= 24 and foodData['sugar'] <= 29) :\n",
    "        if(foodData['protein'] >= 75 and foodData['protein'] <= 100) :\n",
    "            if(foodData['calories'] >= 1500 and foodData['calories'] <= 2000) :\n",
    "                if(foodData['carb'] >= 150 and foodData['carb'] <= 165) :\n",
    "                    if(foodData['fat'] >= 50 and foodData['fat'] <= 55) :\n",
    "                        return True\n",
    "    return False"
   ]
  }
 ],
 "metadata": {
  "kernelspec": {
   "display_name": "Python 3",
   "language": "python",
   "name": "python3"
  },
  "language_info": {
   "codemirror_mode": {
    "name": "ipython",
    "version": 3
   },
   "file_extension": ".py",
   "mimetype": "text/x-python",
   "name": "python",
   "nbconvert_exporter": "python",
   "pygments_lexer": "ipython3",
   "version": "3.7.4"
  }
 },
 "nbformat": 4,
 "nbformat_minor": 2
}
