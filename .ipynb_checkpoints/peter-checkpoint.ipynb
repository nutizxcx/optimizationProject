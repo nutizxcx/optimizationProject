{
 "cells": [
  {
   "cell_type": "code",
   "execution_count": 29,
   "metadata": {},
   "outputs": [],
   "source": [
    "def binToDec(bin):\n",
    "    return (int(bin[0])*2**3 + int(bin[1])*2**2 + int(bin[2])*2**1 + int(bin[3])*2**0)\n",
    "\n",
    "def findProtein(chromosome):\n",
    "    meal1 = binToDec(chromosome[0:8])\n",
    "    meal2 = binToDec(chromosome[8:16])\n",
    "    meal3 = binToDec(chromosome[16:])\n",
    "    return food[meal1, protein] + food[meal2, protein] + food[meal3, protein]\n",
    "\n",
    "def findCalories(chromosome):\n",
    "    meal1 = binToDec(chromosome[0:8])\n",
    "    meal2 = binToDec(chromosome[8:16])\n",
    "    meal3 = binToDec(chromosome[16:])\n",
    "    return food[meal1, calories] + food[meal2, calories] + food[meal3, calories]\n",
    "\n",
    "def objective(chromosome):\n",
    "    return 0.5*findProtein(chromosome) + 0.5*findCalories(chromosome)\n"
   ]
  },
  {
   "cell_type": "code",
   "execution_count": 30,
   "metadata": {},
   "outputs": [
    {
     "name": "stdout",
     "output_type": "stream",
     "text": [
      "0\n"
     ]
    }
   ],
   "source": []
  },
  {
   "cell_type": "code",
   "execution_count": null,
   "metadata": {},
   "outputs": [],
   "source": []
  }
 ],
 "metadata": {
  "kernelspec": {
   "display_name": "Python 3",
   "language": "python",
   "name": "python3"
  },
  "language_info": {
   "codemirror_mode": {
    "name": "ipython",
    "version": 3
   },
   "file_extension": ".py",
   "mimetype": "text/x-python",
   "name": "python",
   "nbconvert_exporter": "python",
   "pygments_lexer": "ipython3",
   "version": "3.7.4"
  }
 },
 "nbformat": 4,
 "nbformat_minor": 1
}
